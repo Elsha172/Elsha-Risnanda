{
 "cells": [
  {
   "cell_type": "code",
   "execution_count": 1,
   "id": "77257176",
   "metadata": {},
   "outputs": [
    {
     "name": "stdout",
     "output_type": "stream",
     "text": [
      "#/################################################################################/\n",
      "/                                                                                 /\n",
      "/                              Elsha Risnanda                                     /\n",
      "/                            20/462135/PA/20107                                   /\n",
      "/                        elsharsnda@mail.ugm.ac.id                                /\n",
      "/                                                                                 /\n",
      "#/################################################################################/\n"
     ]
    }
   ],
   "source": [
    "print (\"#/################################################################################/\")\n",
    "print (\"/                                                                                 /\")\n",
    "print (\"/                              Elsha Risnanda                                     /\")\n",
    "print (\"/                            20/462135/PA/20107                                   /\")\n",
    "print (\"/                        elsharsnda@mail.ugm.ac.id                                /\")\n",
    "print (\"/                                                                                 /\")\n",
    "print (\"#/################################################################################/\")"
   ]
  },
  {
   "cell_type": "code",
   "execution_count": null,
   "id": "6b8ad8be",
   "metadata": {},
   "outputs": [],
   "source": []
  }
 ],
 "metadata": {
  "kernelspec": {
   "display_name": "Python 3",
   "language": "python",
   "name": "python3"
  },
  "language_info": {
   "codemirror_mode": {
    "name": "ipython",
    "version": 3
   },
   "file_extension": ".py",
   "mimetype": "text/x-python",
   "name": "python",
   "nbconvert_exporter": "python",
   "pygments_lexer": "ipython3",
   "version": "3.9.1"
  }
 },
 "nbformat": 4,
 "nbformat_minor": 5
}
